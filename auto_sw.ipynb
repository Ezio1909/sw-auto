{
 "cells": [
  {
   "cell_type": "code",
   "execution_count": 1,
   "metadata": {},
   "outputs": [],
   "source": [
    "import pygetwindow as pgw\n",
    "from PIL import ImageGrab,Image\n",
    "import pyautogui as pag\n",
    "import numpy as np\n",
    "import matplotlib.pyplot as plt\n",
    "import cv2 as cv\n",
    "import time\n",
    "from datetime import datetime\n",
    "import re\n",
    "import pytesseract as tess\n",
    "import subprocess"
   ]
  },
  {
   "cell_type": "code",
   "execution_count": 2,
   "metadata": {},
   "outputs": [],
   "source": [
    "def display_img(img,cmap=None):\n",
    "    fig = plt.figure(figsize=(15*win_width/win_height,10))\n",
    "    ax = fig.add_subplot(111)\n",
    "    ax.imshow(img,cmap)\n",
    "    "
   ]
  },
  {
   "cell_type": "code",
   "execution_count": 3,
   "metadata": {},
   "outputs": [],
   "source": [
    "# https://stackoverflow.com/questions/4993082/how-can-i-sharpen-an-image-in-opencv\n",
    "def unsharp_mask(image, kernel_size=(5, 5), sigma=1.0, amount=1.0, threshold=0):\n",
    "    \"\"\"Return a sharpened version of the image, using an unsharp mask.\"\"\"\n",
    "    blurred = cv.GaussianBlur(image, kernel_size, sigma)\n",
    "    sharpened = float(amount + 1) * image - float(amount) * blurred\n",
    "    sharpened = np.maximum(sharpened, np.zeros(sharpened.shape))\n",
    "    sharpened = np.minimum(sharpened, 255 * np.ones(sharpened.shape))\n",
    "    sharpened = sharpened.round().astype(np.uint8)\n",
    "    if threshold > 0:\n",
    "        low_contrast_mask = np.absolute(image - blurred) < threshold\n",
    "        np.copyto(sharpened, image, where=low_contrast_mask)\n",
    "    return sharpened"
   ]
  },
  {
   "cell_type": "code",
   "execution_count": 4,
   "metadata": {},
   "outputs": [],
   "source": [
    "# https://stackoverflow.com/questions/2846947/get-screenshot-on-windows-with-python\n",
    "def get_app_window():\n",
    "    ss = pag.screenshot()\n",
    "    ss = np.asarray(ss)\n",
    "    ss = unsharp_mask(ss)\n",
    "    roi = ss[:dim[1],:dim[0],:]\n",
    "    return roi"
   ]
  },
  {
   "cell_type": "code",
   "execution_count": 5,
   "metadata": {},
   "outputs": [],
   "source": [
    "def is_rune(pix):\n",
    "    red_channel = pix[0,0,0]\n",
    "    green_channel = pix[0,0,1]\n",
    "    blue_channel = pix[0,0,2]\n",
    "    if red_channel == 255 and green_channel == 255:\n",
    "        return 1\n",
    "    else:\n",
    "        return 0"
   ]
  },
  {
   "cell_type": "code",
   "execution_count": 6,
   "metadata": {},
   "outputs": [],
   "source": [
    "# \"\"\"\n",
    "# refill button:\n",
    "# 160 : 175 , 513 : 530, :\n",
    "# \"\"\"\n",
    "# pag.click(x=np.random.randint(513,531),\n",
    "#           y=np.random.randint(160,176))\n",
    "\n",
    "# time.sleep(1)\n",
    "\n",
    "# \"\"\"\n",
    "# charging method button:\n",
    "# 336 : 370 , 300 : 400, :\n",
    "# \"\"\"\n",
    "# pag.click(x=np.random.randint(300,400),\n",
    "#           y=np.random.randint(336,370))"
   ]
  },
  {
   "cell_type": "code",
   "execution_count": 7,
   "metadata": {},
   "outputs": [],
   "source": [
    "dict_pos_reward = {\n",
    "\n",
    "'px_0' : (239,564),\n",
    "'px_1' : (239,633),\n",
    "'px_2' : (239,702),\n",
    "'px_3' : (239,771),\n",
    "'px_4' : (308,564),\n",
    "'px_5' : (308,633),\n",
    "'px_6' : (308,702),\n",
    "'px_7' : (308,771),\n",
    "'px_8' : (377,564),\n",
    "'px_9' : (377,633)\n",
    "    \n",
    "}"
   ]
  },
  {
   "cell_type": "code",
   "execution_count": 8,
   "metadata": {},
   "outputs": [],
   "source": [
    "def awake_screen():\n",
    "    \"\"\"\n",
    "    the function awakes screen since SW automatically sleeps after a while\n",
    "    \"\"\"\n",
    "    pt1 = (np.random.randint(200,300),np.random.randint(200,300))\n",
    "    pt2 = (np.random.randint(400,500),np.random.randint(300,400))\n",
    "    pag.moveTo(pt1[0],pt1[1])\n",
    "    pag.dragTo(pt2[0], pt2[1], button='left',duration = 1,tween= pag.easeInOutQuad)\n",
    "    time.sleep(1)\n",
    "\n",
    "def click_sell_rune():\n",
    "    # click sell button\n",
    "    pag.click(x=np.random.randint(330,400) ,\n",
    "              y=np.random.randint(400,430))\n",
    "    time.sleep(np.random.randint(2,4))\n",
    "    # click yes \n",
    "    pag.click(x=np.random.randint(320,400),\n",
    "              y=np.random.randint(330,360))\n",
    "    time.sleep(np.random.randint(2,4))\n",
    "    \n",
    "    pic = get_app_window()\n",
    "    ret,thres = threshold(pic[200:240,410:560])\n",
    "    text = tess.image_to_string(thres).split('\\n')\n",
    "    text.remove('\\x0c')\n",
    "    if 'LEGEND' in text[0].upper(): # com2us put another notification when selling legend runes. we need to bypass it\n",
    "        print('sell LEGEND!')\n",
    "        pag.click(x=np.random.randint(320,400),\n",
    "                  y=np.random.randint(330,360))\n",
    "        time.sleep(np.random.randint(2,4))\n",
    "\n",
    "def click_sell_selected():\n",
    "    #click Sell Selected\n",
    "    pag.click(x=np.random.randint(720,795),y=np.random.randint(470,490))\n",
    "    time.sleep(np.random.randint(1,3))\n",
    "    #click Sell selected\n",
    "    pag.click(x=np.random.randint(620,680),y=np.random.randint(470,490))\n",
    "    time.sleep(np.random.randint(1,3))\n",
    "    \n",
    "    pic = get_app_window()\n",
    "    ret,thres = threshold(pic[220:260,250:600])\n",
    "    list_noti = tess.image_to_string(thres).split('\\n')\n",
    "    list_noti.remove('\\x0c')\n",
    "    \n",
    "    if \"select\" in list_noti[0]:\n",
    "        #You didnt selected items to sell:\n",
    "        #Click OK\n",
    "        pag.click(x=np.random.randint(400,460),y=np.random.randint(330,360))\n",
    "        time.sleep(np.random.randint(1,3))\n",
    "        #Click cancel pic[470:490,725:800]\n",
    "        pag.click(x=np.random.randint(725,800),y=np.random.randint(470,490))\n",
    "        time.sleep(np.random.randint(1,3))\n",
    "    else:    \n",
    "        #sell successfully\n",
    "        pag.click(x=np.random.randint(320,400),y=np.random.randint(330,360))\n",
    "        time.sleep(np.random.randint(4,8))"
   ]
  },
  {
   "cell_type": "code",
   "execution_count": 9,
   "metadata": {},
   "outputs": [],
   "source": [
    "def threshold(pic):\n",
    "    roi = pic.copy()\n",
    "    roi = cv.cvtColor(roi,cv.COLOR_BGR2GRAY)\n",
    "    ret,thres = cv.threshold(roi,127,255,cv.THRESH_BINARY_INV)\n",
    "    return ret,thres"
   ]
  },
  {
   "cell_type": "code",
   "execution_count": 10,
   "metadata": {},
   "outputs": [],
   "source": [
    "# class A:\n",
    "#     def __init__(self):\n",
    "#         self.name = 'rune A'\n",
    "#         self.type = 'legend'\n",
    "#         self.prop_sub = {'a':1,'b':2}\n",
    "        \n",
    "#     def __str__(self):\n",
    "#         list_prop = [\n",
    "#             f\"Rune name: {self.name}\",\n",
    "#             f\"Rune type: {self.type}\",\n",
    "#             f\"Rune prop sub: {self.prop_sub}\"\n",
    "#         ]\n",
    "#         resp= \"\\n\".join(list_prop)\n",
    "#         return resp\n",
    "#     def self_print(self):\n",
    "#         print(self)\n",
    "        \n",
    "# t = A()\n",
    "# t.self_print()"
   ]
  },
  {
   "cell_type": "code",
   "execution_count": 11,
   "metadata": {},
   "outputs": [],
   "source": [
    "class Rune:\n",
    "    def __init__(self,pic):\n",
    "        self.pic = pic\n",
    "        self.name,self.slot = self.get_rune_name()\n",
    "        self.type = self.get_rune_type()\n",
    "        self.prop_main,self.prop_innate,self.prop_sub = self.get_rune_prop()\n",
    "        \n",
    "    def __str__(self):\n",
    "        list_prop = [\n",
    "            f\"Rune name: {self.name}\",\n",
    "            f\"Rune type: {self.type}\",\n",
    "            f\"Rune prop_main: {self.prop_main}\",\n",
    "            f\"Rune prop_innate: {self.prop_innate}\",\n",
    "            f\"Rune prop_sub: {self.prop_sub}\"\n",
    "        ]\n",
    "        resp= \"\\n\".join(list_prop)\n",
    "        return resp\n",
    "        \n",
    "    def threshold(self,pic):\n",
    "        ret,thres = threshold(pic)\n",
    "        return thres\n",
    "    \n",
    "    def get_rune_name(self):       \n",
    "        thres = self.threshold(self.pic[135:175,315:550,:])\n",
    "        rune_name_str = tess.image_to_string(thres).split('\\n')[0]\n",
    "        rune_name = re.sub('[^a-zA-Z| ]','',rune_name_str).strip()\n",
    "        rune_slot = re.sub('[\\D]','',rune_name_str)\n",
    "        return rune_name,rune_slot\n",
    "    \n",
    "    def get_rune_type(self):  \n",
    "        thres = self.threshold(self.pic[185:204,520:610,:])\n",
    "        res = tess.image_to_string(thres).split('\\n')\n",
    "        res.remove('\\x0c')\n",
    "        return res[0]\n",
    "    \n",
    "    def get_rune_prop(self):\n",
    "        thres = self.threshold(self.pic[180:230,330:510,:])\n",
    "        list_prop = tess.image_to_string(thres).split('\\n')\n",
    "        list_prop.remove('\\x0c')\n",
    "        rune_prop_main = (re.sub('[^a-zA-Z|]','',list_prop[0]),re.sub('[^\\d|%]','',list_prop[0]))\n",
    "        if len(list_prop) == 2:       \n",
    "            rune_prop_innate = (re.sub('[^a-zA-Z|]','',list_prop[1]),re.sub('[^\\d|%]','',list_prop[1]))\n",
    "        else:\n",
    "            rune_prop_innate = None\n",
    "        \n",
    "        thres = self.threshold(self.pic[240:340,250:600,:])\n",
    "        list_prop_sub = tess.image_to_string(thres).split('\\n')\n",
    "        list_prop_sub.remove('\\x0c')\n",
    "        rune_prop_sub = {}\n",
    "        for sub in list_prop_sub:\n",
    "            #rune_prop_sub.append((re.sub('[^a-zA-Z|]','',sub),re.sub('[^\\d|%]','',sub)))\n",
    "            rune_prop_sub[re.sub('[^a-zA-Z|]','',sub)] = re.sub('[^\\d|%]','',sub)\n",
    "        return rune_prop_main,rune_prop_innate,rune_prop_sub\n",
    "    \n",
    "    def has_speed_sub(self):\n",
    "        flag = 0\n",
    "        for sub in self.prop_sub.keys():\n",
    "            if 'SPD' in sub:\n",
    "                flag = 1\n",
    "        return flag\n",
    "\n",
    "    def strategy_gb12(self):\n",
    "        if 'Resistance' in self.prop_main[0]:\n",
    "            print('SOLD as Resistance in prop main!')\n",
    "            click_sell_rune() \n",
    "        elif self.type.lower() in ['magic','blue','normal']:\n",
    "            print('SOLD as Magic, Blue, Normal')\n",
    "            click_sell_rune()             \n",
    "        elif self.slot in ['4','6'] and '%' not in self.prop_main[1]:\n",
    "            print('SOLD as % not in slot 4,6!')\n",
    "            click_sell_rune() \n",
    "        elif self.slot in ['2'] and 'SPD' not in self.prop_main[0] and '%' not in self.prop_main[1]:\n",
    "            print('SOLD as SPD and % not in slot 2!')\n",
    "            click_sell_rune() \n",
    "        elif self.has_speed_sub() == 0:\n",
    "            print('SOLD as has no speed sub!')\n",
    "            click_sell_rune()\n",
    "        else:\n",
    "            pag.click(x=np.random.randint(597,609),\n",
    "                    y=np.random.randint(146,159)) \n",
    "            time.sleep(1)\n",
    "        \n",
    "    def strategy_db12(self):\n",
    "        if 'Resistance' in self.prop_main[0]:\n",
    "            print('SOLD as Resistance in prop main!')\n",
    "            click_sell_rune() \n",
    "        elif self.type.lower() in ['magic','blue','normal']:\n",
    "            print('SOLD as Magic, Blue, Normal')\n",
    "            click_sell_rune()             \n",
    "        elif self.slot in ['4','6'] and '%' not in self.prop_main[1]:\n",
    "            print('SOLD as % not in slot 4,6!')\n",
    "            click_sell_rune() \n",
    "        elif self.slot in ['2'] and 'SPD' not in self.prop_main[0] and '%' not in self.prop_main[1]:\n",
    "            print('SOLD as SPD and % not in slot 2!')\n",
    "            click_sell_rune() \n",
    "        elif not (('Violent' in self.name and 'Legend' in self.type) \n",
    "                  or ('Violent' in self.name and 'SPD' in self.prop_main[0]) \n",
    "                  or self.has_speed_sub() == 1):\n",
    "            print('SOLD as not Legend Violent and has no speed sub!')\n",
    "            print(self)\n",
    "            click_sell_rune()\n",
    "        # elif 'Violent' not in self.name and self.has_speed_sub() == 0:\n",
    "        #     print('SOLD as not Violent and has no speed sub!')\n",
    "        #     click_sell_rune()\n",
    "        else:\n",
    "#             print(self)\n",
    "            pag.click(x=np.random.randint(597,609),\n",
    "                    y=np.random.randint(146,159)) \n",
    "            time.sleep(1) \n",
    "\n",
    "    def strategy_nb12(self):\n",
    "        if 'Resistance' in self.prop_main[0]:\n",
    "            print('SOLD as Resistance in prop main!')\n",
    "            click_sell_rune() \n",
    "        elif self.type.lower() in ['magic','blue','normal']:\n",
    "            print('SOLD as Magic, Blue, Normal')\n",
    "            click_sell_rune()             \n",
    "        elif self.slot in ['4','6'] and '%' not in self.prop_main[1]:\n",
    "            print('SOLD as % not in slot 4,6!')\n",
    "            click_sell_rune() \n",
    "        elif self.slot in ['2'] and 'SPD' not in self.prop_main[0] and '%' not in self.prop_main[1]:\n",
    "            print('SOLD as SPD and % not in slot 2!')\n",
    "            click_sell_rune() \n",
    "        elif 'Will' not in self.name and 'Rage' not in self.name and self.has_speed_sub() == 0:\n",
    "            print('SOLD as not Will/Rage and has no speed sub!')\n",
    "            click_sell_rune()\n",
    "        else:\n",
    "            print(self)\n",
    "            pag.click(x=np.random.randint(597,609),\n",
    "                    y=np.random.randint(146,159)) \n",
    "            time.sleep(1)\n",
    "        "
   ]
  },
  {
   "cell_type": "code",
   "execution_count": 12,
   "metadata": {},
   "outputs": [],
   "source": [
    "\n",
    "def check_blue_runes(pic):\n",
    "    loc_blue_rune = []\n",
    "    loc_not_blue_rune = []\n",
    "    for idx,pos in dict_pos_reward.items():\n",
    "        y = pos[0]\n",
    "        x = pos[1]\n",
    "        \n",
    "        if is_rune(pic[y:y+1,x:x+1,:]) == 0:\n",
    "            pass\n",
    "            # print(f'{idx} is NOT a rune')\n",
    "        else:\n",
    "            mean_red_channel = pic[y+15:y+20,x:x+1,:][:,:,0].mean()\n",
    "            if mean_red_channel < 100:\n",
    "                #print(f'{idx} is blue rune: mean_red_channel = {mean_red_channel}')\n",
    "                loc_blue_rune.append(pos)\n",
    "            else:\n",
    "                #print(f'{idx} is NOT blue rune: mean_red_channel = {mean_red_channel}')\n",
    "                loc_not_blue_rune.append(pos)\n",
    "    return loc_blue_rune,loc_not_blue_rune\n",
    "\n",
    "\n",
    "\n",
    "def sell_blue_runes(list_loc):\n",
    "    for pos in list_loc:\n",
    "        y_click = np.random.randint(pos[0],pos[0]+40)\n",
    "        x_click = np.random.randint(pos[1],pos[1]+40)\n",
    "#         print(y_click,x_click)\n",
    "        # click blue runes\n",
    "        pag.click(x=x_click,\n",
    "                  y=y_click)\n",
    "        time.sleep(np.random.randint(2,4))\n",
    "        click_sell_rune()\n",
    "\n",
    "def sell_not_blue_runes(list_loc):\n",
    "    for pos in list_loc:\n",
    "        y_click = np.random.randint(pos[0],pos[0]+40)\n",
    "        x_click = np.random.randint(pos[1],pos[1]+40)\n",
    "        # click hero and legend runes\n",
    "        pag.click(x=x_click,\n",
    "                  y=y_click)\n",
    "        time.sleep(np.random.randint(2,4))\n",
    "        \n",
    "        pic = get_app_window()\n",
    "        rune = Rune(pic)\n",
    "        \n",
    "        #rune.strategy_nb12()\n",
    "        rune.strategy_db12()\n",
    "        #rune.strategy_gb12()\n",
    "    \n",
    "def click_replay():\n",
    "    pag.click(x=np.random.randint(420,500),\n",
    "              y=np.random.randint(460,480))\n",
    "    time.sleep(np.random.randint(2,4))\n",
    "    pag.click(x=np.random.randint(675,800),\n",
    "              y=np.random.randint(380,410))"
   ]
  },
  {
   "cell_type": "code",
   "execution_count": 13,
   "metadata": {},
   "outputs": [],
   "source": [
    "def compare(target,source,method=cv.TM_CCOEFF):\n",
    "    # The Full Image to Search\n",
    "    src_img = cv.cvtColor(source, cv.COLOR_BGR2RGB)\n",
    "\n",
    "    # The Template to Match\n",
    "    target_img = cv.cvtColor(target, cv.COLOR_BGR2RGB)\n",
    "\n",
    "    # Apply template Matching with the method\n",
    "    res = cv.matchTemplate(src_img,target_img,method)\n",
    "\n",
    "    # Grab the Max and Min values, plus their locations\n",
    "    min_val, max_val, min_loc, max_loc = cv.minMaxLoc(res)\n",
    "    top_left = max_loc\n",
    "    \n",
    "    return top_left\n",
    "\n",
    "def is_finished_repeat_battle():\n",
    "    pic = get_app_window()\n",
    "    roi = pic[385:415,80:500,:].copy()\n",
    "    roi = cv.cvtColor(roi,cv.COLOR_BGR2GRAY)\n",
    "    ret,thres = cv.threshold(roi,127,255,cv.THRESH_BINARY_INV)\n",
    "    try:\n",
    "        res = tess.image_to_string(thres).split('\\n')[0]\n",
    "    except:\n",
    "        res == 'ERROR'\n",
    "        return 0\n",
    "\n",
    "    if 'COMPLETED' in res.upper() or 'ENDED' in res.upper() :\n",
    "        return 1\n",
    "    elif 'LOST' in res.upper():\n",
    "        print(f\"LOST!\")\n",
    "        return 1\n",
    "    else:\n",
    "        return 0"
   ]
  },
  {
   "cell_type": "code",
   "execution_count": 14,
   "metadata": {},
   "outputs": [],
   "source": [
    "def is_finised_toa():\n",
    "    pic = get_app_window()\n",
    "    roi = pic[100:160,270:600,:].copy()\n",
    "    roi = cv.cvtColor(roi,cv.COLOR_BGR2GRAY)\n",
    "    ret,thres = cv.threshold(roi,127,255,cv.THRESH_BINARY_INV)\n",
    "    try:\n",
    "        res = tess.image_to_string(thres).split('\\n')[0]\n",
    "    except:\n",
    "        res == 'ERROR'\n",
    "    if res == 'VICTORY':\n",
    "        return 1\n",
    "    elif res == 'DEFEATED':\n",
    "        return 2\n",
    "    else:\n",
    "        return 0"
   ]
  },
  {
   "cell_type": "code",
   "execution_count": 15,
   "metadata": {},
   "outputs": [
    {
     "data": {
      "text/plain": [
       "Size(width=944, height=540)"
      ]
     },
     "execution_count": 15,
     "metadata": {},
     "output_type": "execute_result"
    }
   ],
   "source": [
    "win = pgw.getWindowsWithTitle('BlueStacks')[0]\n",
    "win.maximize()\n",
    "win.moveTo(0,0)\n",
    "win.size = (944,540)\n",
    "dim = win.size\n",
    "win_width = dim[0]\n",
    "win_height = dim[1]\n",
    "dim"
   ]
  },
  {
   "cell_type": "code",
   "execution_count": 16,
   "metadata": {},
   "outputs": [],
   "source": [
    "pag.FAILSAFE = False"
   ]
  },
  {
   "cell_type": "code",
   "execution_count": 17,
   "metadata": {},
   "outputs": [],
   "source": [
    "### AUTO FARM RUNES\n",
    "def auto_farm_runes(_from = None, _to = None):\n",
    "    while True:\n",
    "        awake_screen()\n",
    "        time.sleep(1)\n",
    "        pic = get_app_window()\n",
    "        try:\n",
    "            loc_blue_runes,loc_not_blue_rune = check_blue_runes(pic)\n",
    "            sell_blue_runes(loc_blue_runes)\n",
    "            sell_not_blue_runes(loc_not_blue_rune)\n",
    "        except:\n",
    "            pass\n",
    "\n",
    "        if _from is None and _to is None:\n",
    "            pass\n",
    "        elif datetime.now().hour >= _from and datetime.now().hour < _to:\n",
    "            subprocess.run([\"shutdown\", \"-s\"])\n",
    "            break\n",
    "\n",
    "        if is_finished_repeat_battle() == 1:\n",
    "            # due to some bugs,we click on the X button of runes frame before click replay\n",
    "            pag.click(x=np.random.randint(597,609),\n",
    "                    y=np.random.randint(146,159)) \n",
    "            time.sleep(1)\n",
    "            print('FINISHED!')\n",
    "            click_replay()\n",
    "        else:\n",
    "            time.sleep(5)"
   ]
  },
  {
   "cell_type": "code",
   "execution_count": 18,
   "metadata": {},
   "outputs": [],
   "source": [
    "### AUTO FARM ARTIFACTS\n",
    "def auto_farm_artifact(_from = None, _to = None):\n",
    "    while True:\n",
    "        \n",
    "        if _from is None and _to is None:\n",
    "            pass\n",
    "        elif datetime.now().hour >= _from and datetime.now().hour < _to:\n",
    "            subprocess.run([\"shutdown\", \"-s\"])\n",
    "            break\n",
    "            \n",
    "        awake_screen()\n",
    "        time.sleep(1)\n",
    "        pic = get_app_window()\n",
    "\n",
    "        if is_finished_repeat_battle() == 1:\n",
    "            # due to some bugs,we click on the X button of runes frame before click replay\n",
    "            pag.click(x=np.random.randint(597,609),\n",
    "                    y=np.random.randint(146,159)) \n",
    "            click_sell_selected()\n",
    "            time.sleep(3)\n",
    "            print('FINISHED!')\n",
    "            click_replay()\n",
    "        else:\n",
    "            time.sleep(5)"
   ]
  },
  {
   "cell_type": "code",
   "execution_count": 19,
   "metadata": {},
   "outputs": [],
   "source": [
    "### AUTO TOA\n",
    "def auto_toa():\n",
    "    while True:\n",
    "        flag_finished = is_finised_toa()\n",
    "        if flag_finished == 1: # victory\n",
    "            \n",
    "            # click mouse 2 times to proceed to reward screen\n",
    "            pag.click(x=np.random.randint(420,500),y=np.random.randint(460,480))\n",
    "            time.sleep(np.random.randint(1,3))\n",
    "            pag.click(x=np.random.randint(420,500),y=np.random.randint(460,480))\n",
    "            \n",
    "            # click OK button\n",
    "            time.sleep(np.random.randint(2,4))\n",
    "            pag.click(x=np.random.randint(400,470),y=np.random.randint(410,440))\n",
    "            \n",
    "            # click Next button\n",
    "            time.sleep(np.random.randint(1,3))\n",
    "            pag.click(x=np.random.randint(200,380),y=np.random.randint(310,320))\n",
    "            \n",
    "            # click start battle\n",
    "            time.sleep(np.random.randint(2,4))\n",
    "            pag.click(x=np.random.randint(690,760),y=np.random.randint(370,420))\n",
    "            \n",
    "        elif flag_finished == 2:\n",
    "            print('STOP program due to DEFEAT')\n",
    "            break\n",
    "        else:\n",
    "            pass"
   ]
  },
  {
   "cell_type": "code",
   "execution_count": 21,
   "metadata": {},
   "outputs": [
    {
     "name": "stdout",
     "output_type": "stream",
     "text": [
      "FINISHED!\n",
      "FINISHED!\n",
      "FINISHED!\n",
      "FINISHED!\n",
      "FINISHED!\n",
      "FINISHED!\n",
      "FINISHED!\n",
      "FINISHED!\n",
      "FINISHED!\n"
     ]
    },
    {
     "ename": "KeyboardInterrupt",
     "evalue": "",
     "output_type": "error",
     "traceback": [
      "\u001b[1;31m---------------------------------------------------------------------------\u001b[0m",
      "\u001b[1;31mKeyboardInterrupt\u001b[0m                         Traceback (most recent call last)",
      "\u001b[1;32m<ipython-input-21-0b3f3b3d0587>\u001b[0m in \u001b[0;36m<module>\u001b[1;34m\u001b[0m\n\u001b[0;32m      1\u001b[0m \u001b[1;31m# auto_toa()\u001b[0m\u001b[1;33m\u001b[0m\u001b[1;33m\u001b[0m\u001b[0m\n\u001b[0;32m      2\u001b[0m \u001b[1;31m# auto_farm_runes()\u001b[0m\u001b[1;33m\u001b[0m\u001b[1;33m\u001b[0m\u001b[0m\n\u001b[1;32m----> 3\u001b[1;33m \u001b[0mauto_farm_artifact\u001b[0m\u001b[1;33m(\u001b[0m\u001b[1;33m)\u001b[0m\u001b[1;33m\u001b[0m\u001b[0m\n\u001b[0m",
      "\u001b[1;32m<ipython-input-18-bde07b687fef>\u001b[0m in \u001b[0;36mauto_farm_artifact\u001b[1;34m(_from, _to)\u001b[0m\n\u001b[0;32m     10\u001b[0m \u001b[1;33m\u001b[0m\u001b[0m\n\u001b[0;32m     11\u001b[0m         \u001b[0mawake_screen\u001b[0m\u001b[1;33m(\u001b[0m\u001b[1;33m)\u001b[0m\u001b[1;33m\u001b[0m\u001b[0m\n\u001b[1;32m---> 12\u001b[1;33m         \u001b[0mtime\u001b[0m\u001b[1;33m.\u001b[0m\u001b[0msleep\u001b[0m\u001b[1;33m(\u001b[0m\u001b[1;36m1\u001b[0m\u001b[1;33m)\u001b[0m\u001b[1;33m\u001b[0m\u001b[0m\n\u001b[0m\u001b[0;32m     13\u001b[0m         \u001b[0mpic\u001b[0m \u001b[1;33m=\u001b[0m \u001b[0mget_app_window\u001b[0m\u001b[1;33m(\u001b[0m\u001b[1;33m)\u001b[0m\u001b[1;33m\u001b[0m\u001b[0m\n\u001b[0;32m     14\u001b[0m \u001b[1;33m\u001b[0m\u001b[0m\n",
      "\u001b[1;31mKeyboardInterrupt\u001b[0m: "
     ]
    }
   ],
   "source": [
    "# auto_toa()\n",
    "# auto_farm_runes()\n",
    "auto_farm_artifact()"
   ]
  },
  {
   "cell_type": "code",
   "execution_count": null,
   "metadata": {},
   "outputs": [],
   "source": [
    "ret,thres = threshold(pic[200:240,410:560])\n",
    "text = tess.image_to_string(thres).split('\\n')\n",
    "text.remove('\\x0c')\n",
    "text\n",
    "# if 'LEGEND' in text[0].upper(): # com2us put another notification when selling legend runes. we need to bypass it\n",
    "#     print('sell LEGEND!')\n",
    "#     pag.click(x=np.random.randint(320,400),\n",
    "#               y=np.random.randint(330,360))\n",
    "#     time.sleep(np.random.randint(2,4))"
   ]
  },
  {
   "cell_type": "code",
   "execution_count": null,
   "metadata": {},
   "outputs": [],
   "source": [
    "display_img(pic)"
   ]
  },
  {
   "cell_type": "code",
   "execution_count": null,
   "metadata": {},
   "outputs": [],
   "source": [
    "    # click yes \n",
    "    pag.click(x=np.random.randint(320,400),\n",
    "              y=np.random.randint(330,360))"
   ]
  },
  {
   "cell_type": "code",
   "execution_count": null,
   "metadata": {},
   "outputs": [],
   "source": [
    "dim"
   ]
  },
  {
   "cell_type": "code",
   "execution_count": null,
   "metadata": {},
   "outputs": [],
   "source": [
    "pic = get_app_window()"
   ]
  },
  {
   "cell_type": "code",
   "execution_count": null,
   "metadata": {},
   "outputs": [],
   "source": [
    "rune = Rune(pic)"
   ]
  },
  {
   "cell_type": "code",
   "execution_count": null,
   "metadata": {},
   "outputs": [],
   "source": [
    "rune.slot"
   ]
  },
  {
   "cell_type": "code",
   "execution_count": null,
   "metadata": {},
   "outputs": [],
   "source": [
    "rune.prop_main"
   ]
  },
  {
   "cell_type": "code",
   "execution_count": null,
   "metadata": {},
   "outputs": [],
   "source": [
    "display_img(pic)"
   ]
  },
  {
   "cell_type": "code",
   "execution_count": null,
   "metadata": {},
   "outputs": [],
   "source": [
    "rune.type"
   ]
  },
  {
   "cell_type": "code",
   "execution_count": null,
   "metadata": {},
   "outputs": [],
   "source": [
    "class RuleExecutor:\n",
    "    list_dungeon = ['NB12','DB12','GB12']\n",
    "    \n",
    "    def __init__(self,Rune,dungeon):\n",
    "        self.rune = Rune\n",
    "        self.dungeon = dungeon\n",
    "        self.is_valid_dungeon()\n",
    "    \n",
    "    def is_valid_dungeon(self):\n",
    "        if self.dungeon in self.list_dungeon:\n",
    "            pass\n",
    "        else:\n",
    "            raise Exception(f\"Valid dungeon must be in {self.list_dungeon}\")            \n",
    "    \n",
    "    def is_Violent(self): return 'Violent' in self.rune.name\n",
    "    def is_Will(self): return 'Will' in self.rune.name\n",
    "    def is_Swift(self): return 'Swift' in self.rune.name\n",
    "    def is_Despair(self): return 'Despair' in self.rune.name\n",
    "    def is_Rage(self): return 'Rage' in self.rune.name\n",
    "    \n",
    "    def is_type_legend(self): return 'Legend' in self.rune.type\n",
    "    def is_type_hero(self): return 'Hero' in self.rune.type \n",
    "    \n",
    "    def is_slot_2(self): return '2' in self.rune.slot\n",
    "    def is_slot_4(self): return '4' in self.rune.slot\n",
    "    def is_slot_6(self): return '6' in self.rune.slot\n",
    "    \n",
    "    def is_SPD_main_prop(self): return 'SPD' in self.rune.prop_main[0]\n",
    "    \n",
    "    def has_pct_increase(self): return '%' in self.rune.prop_main[1]\n",
    "    \n",
    "    def has_speed_sub(self):\n",
    "        for sub in self.rune.prop_sub.keys():\n",
    "            return True if 'SPD' in sub else False\n",
    "        \n",
    "    def DB12_strategy():\n",
    "        if self.is_Violent() \\\n",
    "            or self.has_speed_sub() \\\n",
    "            or ((self.is_type_legend() or self.is_type_hero) \\\n",
    "                and self.is_SPD_main_prop())\n",
    "            or ((self.is_type_legend() or self.is_type_hero) \\\n",
    "                and (self.is_slot_4() or self.is_slot_6()) \\\n",
    "                and self.has_speed_sub()):\n",
    "            pass\n",
    "        "
   ]
  },
  {
   "cell_type": "code",
   "execution_count": null,
   "metadata": {},
   "outputs": [],
   "source": [
    "True and False or True and False"
   ]
  },
  {
   "cell_type": "code",
   "execution_count": null,
   "metadata": {},
   "outputs": [],
   "source": [
    "(True and False) or (True and False)"
   ]
  },
  {
   "cell_type": "code",
   "execution_count": null,
   "metadata": {},
   "outputs": [],
   "source": [
    "0self.name,self.slot = self.get_rune_name()\n",
    "self.type = self.get_rune_type()\n",
    "self.prop_main,self.prop_innate,self.prop_sub = self.get_rune_prop()"
   ]
  },
  {
   "cell_type": "code",
   "execution_count": null,
   "metadata": {},
   "outputs": [],
   "source": [
    "RE = RuleExecutor(rune,'nb')"
   ]
  },
  {
   "cell_type": "code",
   "execution_count": null,
   "metadata": {},
   "outputs": [],
   "source": [
    "RE.has_speed_sub()"
   ]
  },
  {
   "cell_type": "code",
   "execution_count": null,
   "metadata": {},
   "outputs": [],
   "source": [
    "True if 1 < 0  else False"
   ]
  },
  {
   "cell_type": "code",
   "execution_count": null,
   "metadata": {},
   "outputs": [],
   "source": [
    "if 'Resistance' in self.prop_main[0]:\n",
    "    print('SOLD as Resistance in prop main!')\n",
    "#     click_sell_rune() \n",
    "elif self.type.lower() in ['magic','blue','normal']:\n",
    "    print('SOLD as Magic, Blue, Normal')\n",
    "#     click_sell_rune()             \n",
    "elif self.slot in ['4','6'] and '%' not in self.prop_main[1]:\n",
    "    print('SOLD as % not in slot 4,6!')\n",
    "#     click_sell_rune() \n",
    "elif self.slot in ['2'] and 'SPD' not in self.prop_main[0] and '%' not in self.prop_main[1]:\n",
    "    print('SOLD as SPD and % not in slot 2!')\n",
    "#     click_sell_rune() \n",
    "elif 'Will' not in self.name and 'Rage' not in self.name and self.has_speed_sub() == 0:\n",
    "    print('SOLD as not Will/Rage and has no speed sub!')\n",
    "#     click_sell_rune()"
   ]
  },
  {
   "cell_type": "code",
   "execution_count": null,
   "metadata": {},
   "outputs": [],
   "source": []
  },
  {
   "cell_type": "code",
   "execution_count": null,
   "metadata": {},
   "outputs": [],
   "source": [
    "ret,thres = threshold(pic[200:240,410:560])\n",
    "text = tess.image_to_string(thres).split('\\n')\n",
    "text.remove('\\x0c')\n",
    "text[0]"
   ]
  },
  {
   "cell_type": "code",
   "execution_count": null,
   "metadata": {},
   "outputs": [],
   "source": [
    "ret,thres = threshold(pic[220:260,250:600])\n",
    "list_noti = tess.image_to_string(thres).split('\\n')\n",
    "list_noti.remove('\\x0c')\n",
    "list_noti"
   ]
  },
  {
   "cell_type": "code",
   "execution_count": null,
   "metadata": {},
   "outputs": [],
   "source": [
    "rune = Rune(pic)"
   ]
  },
  {
   "cell_type": "code",
   "execution_count": null,
   "metadata": {},
   "outputs": [],
   "source": [
    "rune.prop_sub"
   ]
  },
  {
   "cell_type": "code",
   "execution_count": null,
   "metadata": {},
   "outputs": [],
   "source": []
  },
  {
   "cell_type": "code",
   "execution_count": null,
   "metadata": {},
   "outputs": [],
   "source": [
    "rune.has_speed_sub()"
   ]
  },
  {
   "cell_type": "code",
   "execution_count": null,
   "metadata": {},
   "outputs": [],
   "source": [
    "if rune.has_speed_sub():\n",
    "    pag.click(x=np.random.randint(450,550),y=np.random.randint(400,420))"
   ]
  },
  {
   "cell_type": "code",
   "execution_count": null,
   "metadata": {},
   "outputs": [],
   "source": [
    "pic_1 = get_app_window()"
   ]
  },
  {
   "cell_type": "code",
   "execution_count": null,
   "metadata": {},
   "outputs": [],
   "source": [
    "display_img(pic_1[230:350,480:680])"
   ]
  },
  {
   "cell_type": "code",
   "execution_count": null,
   "metadata": {},
   "outputs": [],
   "source": [
    "ret,thres = threshold(pic_1[230:350,480:680])\n",
    "list_prop_sub = tess.image_to_string(thres).split('\\n')\n",
    "list_prop_sub.remove('\\x0c')"
   ]
  },
  {
   "cell_type": "code",
   "execution_count": null,
   "metadata": {},
   "outputs": [],
   "source": [
    "list_prop_sub"
   ]
  },
  {
   "cell_type": "code",
   "execution_count": null,
   "metadata": {},
   "outputs": [],
   "source": [
    "rune_prop_sub = {}\n",
    "for sub in list_prop_sub:\n",
    "    #rune_prop_sub.append((re.sub('[^a-zA-Z|]','',sub),re.sub('[^\\d|%]','',sub)))\n",
    "    rune_prop_sub[re.sub('[^a-zA-Z|]','',sub)] = re.sub('[^\\d|%]','',sub)"
   ]
  },
  {
   "cell_type": "code",
   "execution_count": null,
   "metadata": {},
   "outputs": [],
   "source": [
    "rune_prop_sub"
   ]
  },
  {
   "cell_type": "code",
   "execution_count": null,
   "metadata": {},
   "outputs": [],
   "source": [
    "datetime(2022,4,14,13,45,56).hour"
   ]
  },
  {
   "cell_type": "code",
   "execution_count": null,
   "metadata": {},
   "outputs": [],
   "source": []
  }
 ],
 "metadata": {
  "kernelspec": {
   "display_name": "Python 3.6.6 ('python-cvcourse')",
   "language": "python",
   "name": "python3"
  },
  "language_info": {
   "codemirror_mode": {
    "name": "ipython",
    "version": 3
   },
   "file_extension": ".py",
   "mimetype": "text/x-python",
   "name": "python",
   "nbconvert_exporter": "python",
   "pygments_lexer": "ipython3",
   "version": "3.6.6"
  },
  "vscode": {
   "interpreter": {
    "hash": "7ad539643cf831b7fac886c8b1f7a8abfb273bb4ae70f40b681f5e4b8437a46d"
   }
  }
 },
 "nbformat": 4,
 "nbformat_minor": 2
}
